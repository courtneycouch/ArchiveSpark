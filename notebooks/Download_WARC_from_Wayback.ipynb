{
 "cells": [
  {
   "cell_type": "markdown",
   "metadata": {},
   "source": [
    "# Downloading a Web archive dataset as WARC/CDX from the Wayback Machine"
   ]
  },
  {
   "cell_type": "code",
   "execution_count": 1,
   "metadata": {
    "collapsed": true
   },
   "outputs": [],
   "source": [
    "import org.archive.archivespark._\n",
    "import org.archive.archivespark.implicits._\n",
    "import org.archive.archivespark.enrich.functions._\n",
    "import org.archive.archivespark.specific.warc._\n",
    "import org.archive.archivespark.specific.warc.enrichfunctions._\n",
    "import org.archive.archivespark.specific.warc.implicits._\n",
    "import org.archive.archivespark.specific.warc.specs._"
   ]
  },
  {
   "cell_type": "markdown",
   "metadata": {},
   "source": [
    "## Loading the dataset from the Wayback Machine"
   ]
  },
  {
   "cell_type": "markdown",
   "metadata": {},
   "source": [
    "ArchiveSpark provides a [Data Specification (DataSpec)](https://github.com/helgeho/ArchiveSpark/blob/master/docs/DataSpecs.md) to load records remotely from the Wayback Machine with metadata fetched from [CDX Server](https://github.com/internetarchive/wayback/tree/master/wayback-cdx-server). This `WaybackSpec` can be used with a URL query as well as additional parameters to refine the retrieved records.\n",
    "\n",
    "For more details about this and other [DataSpecs](https://github.com/helgeho/ArchiveSpark/blob/master/docs/DataSpecs.md) please read the [docs](https://github.com/helgeho/ArchiveSpark/blob/master/docs/README.md).\n",
    "\n",
    "The following example loads the first 50 pages of records from the CDX Server for URLs starting with *nytimes.com* (`matchPrefix = true`) between May and June 2012, with 5 blocks per page (please read [this documentation](https://github.com/internetarchive/wayback/tree/master/wayback-cdx-server) for more information on these parameters):"
   ]
  },
  {
   "cell_type": "code",
   "execution_count": 2,
   "metadata": {
    "collapsed": true
   },
   "outputs": [],
   "source": [
    "val records = ArchiveSpark.load(WaybackSpec(\"nytimes.com\", matchPrefix = true, from = 201205, to = 201206, blocksPerPage = 5, pages = 50))"
   ]
  },
  {
   "cell_type": "markdown",
   "metadata": {},
   "source": [
    "### Peek at the first record as JSON"
   ]
  },
  {
   "cell_type": "markdown",
   "metadata": {},
   "source": [
    "As usual the records in this dataset can be printed as JSON and all common [operations](https://github.com/helgeho/ArchiveSpark/blob/master/docs/Operations.md) as well as [Enrich Function](https://github.com/helgeho/ArchiveSpark/blob/master/docs/EnrichFuncs.md) can be applied as shown in [other recipes](https://github.com/helgeho/ArchiveSpark/blob/master/docs/Recipes.md)."
   ]
  },
  {
   "cell_type": "code",
   "execution_count": 3,
   "metadata": {
    "collapsed": false
   },
   "outputs": [
    {
     "data": {
      "text/plain": [
       "{\n",
       "  \"record\" : {\n",
       "    \"surtUrl\" : \"com,nytimes)/\",\n",
       "    \"timestamp\" : \"20120501011208\",\n",
       "    \"originalUrl\" : \"http://www.nytimes.com/\",\n",
       "    \"mime\" : \"text/html\",\n",
       "    \"status\" : 200,\n",
       "    \"digest\" : \"I25SXVS4G5FYLISA5CF54UHMYLATAEW3\",\n",
       "    \"redirectUrl\" : \"-\",\n",
       "    \"meta\" : \"-\",\n",
       "    \"compressedSize\" : 35906\n",
       "  }\n",
       "}"
      ]
     },
     "execution_count": 3,
     "metadata": {},
     "output_type": "execute_result"
    }
   ],
   "source": [
    "records.peekJson"
   ]
  },
  {
   "cell_type": "markdown",
   "metadata": {},
   "source": [
    "## Save as WARC / CDX"
   ]
  },
  {
   "cell_type": "markdown",
   "metadata": {},
   "source": [
    "Save the records as local *.warc.gz and *.cdx.gz files (by adding .gz to the path, the output will automatically be compressed using GZip):"
   ]
  },
  {
   "cell_type": "code",
   "execution_count": 4,
   "metadata": {
    "collapsed": false
   },
   "outputs": [],
   "source": [
    "records.saveAsWarc(\"nytimes_201205-201206.warc.gz\", WarcMeta(publisher = \"Internet Archive\"), generateCdx = true)"
   ]
  },
  {
   "cell_type": "markdown",
   "metadata": {
    "collapsed": true
   },
   "source": [
    "## Load from WARC / CDX\n",
    "\n",
    "Now, with the dataset available in local WARC / CDX files, we can load it from there, using `WarcCdxHdfsSpec`:"
   ]
  },
  {
   "cell_type": "code",
   "execution_count": 5,
   "metadata": {
    "collapsed": true
   },
   "outputs": [],
   "source": [
    "val records = ArchiveSpark.load(WarcCdxHdfsSpec(\"nytimes_201205-201206.warc.gz/*.cdx.gz\", \"nytimes_201205-201206.warc.gz\"))"
   ]
  },
  {
   "cell_type": "code",
   "execution_count": 6,
   "metadata": {
    "collapsed": false
   },
   "outputs": [
    {
     "data": {
      "text/plain": [
       "{\n",
       "  \"record\" : {\n",
       "    \"surtUrl\" : \"com,nytimes)/\",\n",
       "    \"timestamp\" : \"20120502142709\",\n",
       "    \"originalUrl\" : \"http://www.nytimes.com/\",\n",
       "    \"mime\" : \"text/html\",\n",
       "    \"status\" : 200,\n",
       "    \"digest\" : \"7PO7ZZLR4PCLW44AE253PWEIKN6NZ5UY\",\n",
       "    \"redirectUrl\" : \"-\",\n",
       "    \"meta\" : \"-\",\n",
       "    \"compressedSize\" : 35575\n",
       "  }\n",
       "}"
      ]
     },
     "execution_count": 6,
     "metadata": {},
     "output_type": "execute_result"
    }
   ],
   "source": [
    "records.peekJson"
   ]
  }
 ],
 "metadata": {
  "kernelspec": {
   "display_name": "ArchiveSpark latest (Spark 2.2.0) dynamic alloc",
   "language": "",
   "name": "archivespark_dynamic"
  },
  "language_info": {
   "name": "scala",
   "version": "2.11.8"
  }
 },
 "nbformat": 4,
 "nbformat_minor": 0
}
